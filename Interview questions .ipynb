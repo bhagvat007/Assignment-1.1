{
 "cells": [
  {
   "cell_type": "markdown",
   "id": "cbee9945",
   "metadata": {},
   "source": [
    "# 1. Data types"
   ]
  },
  {
   "cell_type": "code",
   "execution_count": null,
   "id": "5fc61783",
   "metadata": {},
   "outputs": [],
   "source": [
    "Q.1 What are lists and tuples? What is the key difference between the two?\n",
    "\n",
    "Q.2 What is the difference between Python Arrays and lists?\n",
    "\n",
    "Q.3 What are the built-in types available in Python?\n",
    "\n",
    "Q.4 How to convert a list into other data types?"
   ]
  },
  {
   "cell_type": "markdown",
   "id": "516a9ff0",
   "metadata": {},
   "source": [
    "# 2. Operator"
   ]
  },
  {
   "cell_type": "code",
   "execution_count": null,
   "id": "b5819237",
   "metadata": {},
   "outputs": [],
   "source": [
    "Q.1 What is not operator in Python?\n",
    "\n",
    "Q.2 How are the  following two expressions different?\n",
    "     ans =  9\n",
    "     ans == 9\n",
    "\n",
    "Q.3 How does the ternary operator work in Python?\n",
    "\n",
    "Q.4 Explain Floor-Divide and Assign Operator in Python"
   ]
  },
  {
   "cell_type": "markdown",
   "id": "33a750b1",
   "metadata": {},
   "source": [
    "# 3. Conditional statement"
   ]
  },
  {
   "cell_type": "code",
   "execution_count": null,
   "id": "69e96b4a",
   "metadata": {},
   "outputs": [],
   "source": [
    "Q.1 How do you make a decision in Python?\n",
    "\n",
    "Q.2 What is decision making statement in Python?\n",
    "\n",
    "Q.3 What is Elif statement in Python?\n",
    "\n",
    "Q.4 Can you have two if statements in Python?"
   ]
  },
  {
   "cell_type": "markdown",
   "id": "b6d007a0",
   "metadata": {},
   "source": [
    "# 4. Looping statement"
   ]
  },
  {
   "cell_type": "code",
   "execution_count": null,
   "id": "9ac35f9f",
   "metadata": {},
   "outputs": [],
   "source": [
    "Q.1 What is Loop in Python? Explain with example.\n",
    "\n",
    "Q.2 How do you write a loop in Python?\n",
    "\n",
    "Q.3 How many types of loops are there in Python?\n",
    "\n",
    "Q.4 What are loops used for in Python?"
   ]
  },
  {
   "cell_type": "markdown",
   "id": "28ce6408",
   "metadata": {},
   "source": [
    "# 5. Functions"
   ]
  },
  {
   "cell_type": "code",
   "execution_count": null,
   "id": "fc1d7296",
   "metadata": {},
   "outputs": [],
   "source": [
    "Q.1 What is a function in Python programming?\n",
    "\n",
    "Q.2 What is a built-in function that Python uses to iterate over a number sequence?\n",
    "\n",
    "Q.3 How do we write a function in Python?\n",
    "\n",
    "Q.4 What is the use of help() and dir() functions?"
   ]
  }
 ],
 "metadata": {
  "kernelspec": {
   "display_name": "Python 3 (ipykernel)",
   "language": "python",
   "name": "python3"
  },
  "language_info": {
   "codemirror_mode": {
    "name": "ipython",
    "version": 3
   },
   "file_extension": ".py",
   "mimetype": "text/x-python",
   "name": "python",
   "nbconvert_exporter": "python",
   "pygments_lexer": "ipython3",
   "version": "3.10.0"
  }
 },
 "nbformat": 4,
 "nbformat_minor": 5
}
